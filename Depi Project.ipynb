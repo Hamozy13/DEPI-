{
  "nbformat": 4,
  "nbformat_minor": 0,
  "metadata": {
    "colab": {
      "provenance": []
    },
    "kernelspec": {
      "name": "python3",
      "display_name": "Python 3"
    },
    "language_info": {
      "name": "python"
    }
  },
  "cells": [
    {
      "cell_type": "code",
      "execution_count": null,
      "metadata": {
        "id": "wb1Q7Acc0F1f",
        "colab": {
          "base_uri": "https://localhost:8080/"
        },
        "outputId": "ec93f065-50e9-4f74-8f3d-902ed84ef30d"
      },
      "outputs": [
        {
          "output_type": "stream",
          "name": "stdout",
          "text": [
            "Drive already mounted at /content/drive; to attempt to forcibly remount, call drive.mount(\"/content/drive\", force_remount=True).\n"
          ]
        }
      ],
      "source": [
        "from google.colab import drive\n",
        "drive.mount('/content/drive')\n"
      ]
    },
    {
      "cell_type": "code",
      "source": [
        "file_path = '/content/drive/My Drive/Colab Notebooks/Superstore Sales Dataset.csv'\n"
      ],
      "metadata": {
        "id": "wnsuYAWQ4rOk"
      },
      "execution_count": null,
      "outputs": []
    },
    {
      "cell_type": "code",
      "source": [
        "import pandas as pd\n",
        "\n",
        "file_path = '/content/drive/My Drive/Colab Notebooks/Superstore Sales Dataset.csv'\n",
        "df = pd.read_csv(file_path)\n",
        "\n",
        "# Display the first few rows\n",
        "print(df.head())\n"
      ],
      "metadata": {
        "colab": {
          "base_uri": "https://localhost:8080/"
        },
        "id": "viKPRdl34w3P",
        "outputId": "0c195b66-a18f-42e6-e13a-4cd6e1955f61"
      },
      "execution_count": null,
      "outputs": [
        {
          "output_type": "stream",
          "name": "stdout",
          "text": [
            "   Row ID        Order ID  Order Date   Ship Date       Ship Mode Customer ID  \\\n",
            "0       1  CA-2017-152156  08/11/2017  11/11/2017    Second Class    CG-12520   \n",
            "1       2  CA-2017-152156  08/11/2017  11/11/2017    Second Class    CG-12520   \n",
            "2       3  CA-2017-138688  12/06/2017  16/06/2017    Second Class    DV-13045   \n",
            "3       4  US-2016-108966  11/10/2016  18/10/2016  Standard Class    SO-20335   \n",
            "4       5  US-2016-108966  11/10/2016  18/10/2016  Standard Class    SO-20335   \n",
            "\n",
            "     Customer Name    Segment        Country             City       State  \\\n",
            "0      Claire Gute   Consumer  United States        Henderson    Kentucky   \n",
            "1      Claire Gute   Consumer  United States        Henderson    Kentucky   \n",
            "2  Darrin Van Huff  Corporate  United States      Los Angeles  California   \n",
            "3   Sean O'Donnell   Consumer  United States  Fort Lauderdale     Florida   \n",
            "4   Sean O'Donnell   Consumer  United States  Fort Lauderdale     Florida   \n",
            "\n",
            "   Postal Code Region       Product ID         Category Sub-Category  \\\n",
            "0      42420.0  South  FUR-BO-10001798        Furniture    Bookcases   \n",
            "1      42420.0  South  FUR-CH-10000454        Furniture       Chairs   \n",
            "2      90036.0   West  OFF-LA-10000240  Office Supplies       Labels   \n",
            "3      33311.0  South  FUR-TA-10000577        Furniture       Tables   \n",
            "4      33311.0  South  OFF-ST-10000760  Office Supplies      Storage   \n",
            "\n",
            "                                        Product Name     Sales  \n",
            "0                  Bush Somerset Collection Bookcase  261.9600  \n",
            "1  Hon Deluxe Fabric Upholstered Stacking Chairs,...  731.9400  \n",
            "2  Self-Adhesive Address Labels for Typewriters b...   14.6200  \n",
            "3      Bretford CR4500 Series Slim Rectangular Table  957.5775  \n",
            "4                     Eldon Fold 'N Roll Cart System   22.3680  \n"
          ]
        }
      ]
    },
    {
      "cell_type": "code",
      "source": [
        "# Assuming 'df' is your DataFrame\n",
        "missing_values = df.isnull().sum()\n",
        "\n",
        "# Display the count of missing values in each column\n",
        "print(missing_values)"
      ],
      "metadata": {
        "colab": {
          "base_uri": "https://localhost:8080/"
        },
        "id": "qMWJ1adK4ytV",
        "outputId": "70a4aa35-5936-46ff-82f1-4c8753aefa51"
      },
      "execution_count": null,
      "outputs": [
        {
          "output_type": "stream",
          "name": "stdout",
          "text": [
            "Row ID            0\n",
            "Order ID          0\n",
            "Order Date        0\n",
            "Ship Date         0\n",
            "Ship Mode         0\n",
            "Customer ID       0\n",
            "Customer Name     0\n",
            "Segment           0\n",
            "Country           0\n",
            "City              0\n",
            "State             0\n",
            "Postal Code      11\n",
            "Region            0\n",
            "Product ID        0\n",
            "Category          0\n",
            "Sub-Category      0\n",
            "Product Name      0\n",
            "Sales             0\n",
            "dtype: int64\n"
          ]
        }
      ]
    },
    {
      "cell_type": "code",
      "source": [
        "# Remove rows where 'Postal Code' has missing values\n",
        "df_cleaned = df.dropna(subset=['Postal Code'])\n",
        "\n",
        "# Verify if missing values are removed\n",
        "print(df_cleaned.isnull().sum())\n"
      ],
      "metadata": {
        "colab": {
          "base_uri": "https://localhost:8080/"
        },
        "id": "3LosHGJS5STg",
        "outputId": "c499aeff-39ad-47ab-ead0-c2c8762f6ca5"
      },
      "execution_count": null,
      "outputs": [
        {
          "output_type": "stream",
          "name": "stdout",
          "text": [
            "Row ID           0\n",
            "Order ID         0\n",
            "Order Date       0\n",
            "Ship Date        0\n",
            "Ship Mode        0\n",
            "Customer ID      0\n",
            "Customer Name    0\n",
            "Segment          0\n",
            "Country          0\n",
            "City             0\n",
            "State            0\n",
            "Postal Code      0\n",
            "Region           0\n",
            "Product ID       0\n",
            "Category         0\n",
            "Sub-Category     0\n",
            "Product Name     0\n",
            "Sales            0\n",
            "dtype: int64\n"
          ]
        }
      ]
    },
    {
      "cell_type": "code",
      "source": [
        "if df_cleaned.isnull().values.any():\n",
        "    print(\"There are missing values in the dataset.\")\n",
        "else:\n",
        "    print(\"No missing values in the dataset.\")\n"
      ],
      "metadata": {
        "colab": {
          "base_uri": "https://localhost:8080/"
        },
        "id": "68Hjj7ap5Uf4",
        "outputId": "24b6667d-8888-4379-d2d9-a8bf1e2ecb5b"
      },
      "execution_count": null,
      "outputs": [
        {
          "output_type": "stream",
          "name": "stdout",
          "text": [
            "No missing values in the dataset.\n"
          ]
        }
      ]
    }
  ]
}